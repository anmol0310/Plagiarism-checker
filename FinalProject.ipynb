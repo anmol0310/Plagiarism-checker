{
 "cells": [
  {
   "cell_type": "code",
   "execution_count": 1,
   "id": "6b124423",
   "metadata": {},
   "outputs": [],
   "source": [
    "import os\n",
    "import numpy as np\n",
    "import matplotlib.pyplot as plt"
   ]
  },
  {
   "cell_type": "code",
   "execution_count": 2,
   "id": "525a6e32",
   "metadata": {},
   "outputs": [],
   "source": [
    "from sklearn.feature_extraction.text import TfidfVectorizer"
   ]
  },
  {
   "cell_type": "code",
   "execution_count": 3,
   "id": "28b73b8f",
   "metadata": {},
   "outputs": [],
   "source": [
    "from sklearn.metrics.pairwise import cosine_similarity"
   ]
  },
  {
   "cell_type": "code",
   "execution_count": 4,
   "id": "7d34b194",
   "metadata": {},
   "outputs": [
    {
     "name": "stdout",
     "output_type": "stream",
     "text": [
      "Text AreaThe term \"big cat\" is typically used to refer to any of the five living members of the genus Panthera, namely the tiger, lion, jaguar, leopard, and snow leopard, as well as the non-pantherine cheetah and cougar.[1][2] However, only the first 4 of these species are able to roar.  Despite enormous differences in size, various cat species are quite similar in both structure and behaviour, with the exception of the cheetah, which significantly stands out from the other big and small cats. All cats are carnivores and some are efficient apex predators.[3] Their native ranges include the Americas, Africa, and Asia; the leopard's range also extends into Europe, specifically in Russia.\n"
     ]
    }
   ],
   "source": [
    "document_text=input(\"Text Area\")\n",
    "text_file = open(\"sample.txt\", \"w\")\n",
    "text_file.write(document_text)\n",
    "text_file.close()"
   ]
  },
  {
   "cell_type": "code",
   "execution_count": 5,
   "id": "d7668398",
   "metadata": {},
   "outputs": [],
   "source": [
    "document_files=[doc for doc in os.listdir() if doc.endswith('.txt')]"
   ]
  },
  {
   "cell_type": "code",
   "execution_count": 6,
   "id": "d7406bf8",
   "metadata": {},
   "outputs": [
    {
     "data": {
      "text/plain": [
       "['Cat.txt', 'Kitten.txt', 'sample.txt', 'wildcat.txt']"
      ]
     },
     "execution_count": 6,
     "metadata": {},
     "output_type": "execute_result"
    }
   ],
   "source": [
    "document_files"
   ]
  },
  {
   "cell_type": "code",
   "execution_count": 7,
   "id": "407c6f85",
   "metadata": {},
   "outputs": [],
   "source": [
    "document_notes=[open(_file,encoding='utf-8').read() for _file in document_files]"
   ]
  },
  {
   "cell_type": "code",
   "execution_count": 8,
   "id": "093c9294",
   "metadata": {},
   "outputs": [
    {
     "data": {
      "text/plain": [
       "['The cat (Felis catus) is a domestic species of small carnivorous mammal.[1][2] \\nIt is the only domesticated species in the family Felidae and is often referred to as the domestic cat to distinguish it from the wild members of the family.\\n[4] A cat can either be a house cat, a farm cat or a feral cat; the latter ranges freely and avoids human contact.[5] \\nDomestic cats are valued by humans for companionship and their ability to kill rodents. About 60 cat breeds are recognized by various cat registries.[6]\\nThe cat is similar in anatomy to the other felid species: it has a strong flexible body, quick reflexes, sharp teeth and retractable claws adapted to killing small prey. \\nIts night vision and sense of smell are well developed. \\nCat communication includes vocalizations like meowing, purring, trilling, hissing, growling and grunting as well as cat-specific body language. \\nA predator that is most active at dawn and dusk (crepuscular), the cat is a solitary hunter but a social species. It can hear sounds too faint or too high in frequency for human ears, \\nsuch as those made by mice and other small mammals.[7] Cats also secrete and perceive pheromones.[8]',\n",
       " 'A kitten is a juvenile cat. \\nAfter being born, kittens display primary altriciality and are totally dependent on their mothers for survival. They normally do not open their eyes for seven to ten days. \\nAfter about two weeks, kittens develop quickly and begin to explore the world outside their nest. After a further three to four weeks, they begin to eat solid food and grow baby teeth. \\nDomestic kittens are highly social animals and usually enjoy human companionship.',\n",
       " 'The term \"big cat\" is typically used to refer to any of the five living members of the genus Panthera, namely the tiger, lion, jaguar, leopard, and snow leopard, as well as the non-pantherine cheetah and cougar.[1][2] However, only the first 4 of these species are able to roar.  Despite enormous differences in size, various cat species are quite similar in both structure and behaviour, with the exception of the cheetah, which significantly stands out from the other big and small cats. All cats are carnivores and some are efficient apex predators.[3] Their native ranges include the Americas, Africa, and Asia; the leopard\\'s range also extends into Europe, specifically in Russia.',\n",
       " 'Felidae (/ˈfɛlɪdiː/) is a family of mammals in the order Carnivora, colloquially referred to as cats, and constitutes a clade. \\nA member of this family is also called a felid (/ˈfiːlɪd/).[4][5][6][7] The term \"cat\" refers both to felids in general and specifically to the domestic cat (Felis catus).[8]\\nFelidae species exhibit the most diverse fur pattern of all terrestrial carnivores.[9] Cats have retractile claws, slender muscular bodies and strong flexible forelimbs. \\nTheir teeth and facial muscles allow for a powerful bite. They are all obligate carnivores, and most are solitary predators ambushing or stalking their prey. Wild cats occur in Africa, \\nEurope, Asia and the Americas.\\n Some wild cat species are adapted to forest habitats, some to arid environments, and a few also to wetlands and mountainous terrain. Their activity patterns range from nocturnal and \\ncrepuscular to diurnal, depending on their preferred prey species.[10]']"
      ]
     },
     "execution_count": 8,
     "metadata": {},
     "output_type": "execute_result"
    }
   ],
   "source": [
    "document_notes"
   ]
  },
  {
   "cell_type": "code",
   "execution_count": 9,
   "id": "94e8c42e",
   "metadata": {},
   "outputs": [],
   "source": [
    "def vectorize(text):\n",
    "    return TfidfVectorizer().fit_transform(text).toarray()"
   ]
  },
  {
   "cell_type": "code",
   "execution_count": 10,
   "id": "ea05ec63",
   "metadata": {},
   "outputs": [],
   "source": [
    "def similarity(doc1,doc2):\n",
    "    return cosine_similarity([doc1,doc2])"
   ]
  },
  {
   "cell_type": "code",
   "execution_count": 11,
   "id": "055bf8c1",
   "metadata": {},
   "outputs": [],
   "source": [
    "vectors=vectorize(document_notes)"
   ]
  },
  {
   "cell_type": "code",
   "execution_count": 12,
   "id": "805986a2",
   "metadata": {},
   "outputs": [
    {
     "data": {
      "text/plain": [
       "array([[0.        , 0.06033742, 0.06033742, ..., 0.        , 0.        ,\n",
       "        0.        ],\n",
       "       [0.        , 0.        , 0.        , ..., 0.10839506, 0.        ,\n",
       "        0.        ],\n",
       "       [0.        , 0.        , 0.        , ..., 0.        , 0.        ,\n",
       "        0.        ],\n",
       "       [0.08082447, 0.        , 0.        , ..., 0.        , 0.08082447,\n",
       "        0.08082447]])"
      ]
     },
     "execution_count": 12,
     "metadata": {},
     "output_type": "execute_result"
    }
   ],
   "source": [
    "vectors"
   ]
  },
  {
   "cell_type": "code",
   "execution_count": 13,
   "id": "be65ad2f",
   "metadata": {},
   "outputs": [],
   "source": [
    "d_vectors=list(zip(document_files,vectors))"
   ]
  },
  {
   "cell_type": "code",
   "execution_count": 14,
   "id": "9a6703bc",
   "metadata": {},
   "outputs": [
    {
     "data": {
      "text/plain": [
       "[('Cat.txt',\n",
       "  array([0.        , 0.06033742, 0.06033742, 0.        , 0.04757071,\n",
       "         0.06033742, 0.        , 0.04757071, 0.        , 0.        ,\n",
       "         0.        , 0.        , 0.03851259, 0.        , 0.        ,\n",
       "         0.        , 0.06033742, 0.28337912, 0.        , 0.        ,\n",
       "         0.        , 0.09445971, 0.        , 0.15405037, 0.        ,\n",
       "         0.06033742, 0.06033742, 0.        , 0.06033742, 0.        ,\n",
       "         0.        , 0.        , 0.        , 0.        , 0.        ,\n",
       "         0.12067484, 0.        , 0.        , 0.06033742, 0.06033742,\n",
       "         0.18101226, 0.        , 0.12067484, 0.        , 0.        ,\n",
       "         0.06033742, 0.37783882, 0.07702519, 0.04757071, 0.        ,\n",
       "         0.        , 0.04757071, 0.        , 0.06033742, 0.04757071,\n",
       "         0.        , 0.06033742, 0.        , 0.04757071, 0.06033742,\n",
       "         0.        , 0.        , 0.        , 0.        , 0.        ,\n",
       "         0.06033742, 0.        , 0.        , 0.06033742, 0.        ,\n",
       "         0.        , 0.        , 0.11553778, 0.06033742, 0.06033742,\n",
       "         0.06033742, 0.        , 0.        , 0.06033742, 0.        ,\n",
       "         0.        , 0.        , 0.        , 0.        , 0.        ,\n",
       "         0.        , 0.        , 0.        , 0.        , 0.06033742,\n",
       "         0.09514143, 0.06033742, 0.04757071, 0.04757071, 0.        ,\n",
       "         0.04757071, 0.06033742, 0.        , 0.        , 0.        ,\n",
       "         0.04757071, 0.        , 0.07702519, 0.        , 0.        ,\n",
       "         0.        , 0.06033742, 0.06033742, 0.03851259, 0.        ,\n",
       "         0.        , 0.        , 0.        , 0.        , 0.06033742,\n",
       "         0.06033742, 0.        , 0.06033742, 0.        , 0.06033742,\n",
       "         0.06033742, 0.        , 0.06033742, 0.06033742, 0.        ,\n",
       "         0.09514143, 0.06033742, 0.06033742, 0.11553778, 0.        ,\n",
       "         0.06033742, 0.        , 0.18891941, 0.24134968, 0.06033742,\n",
       "         0.        , 0.        , 0.06033742, 0.06033742, 0.        ,\n",
       "         0.        , 0.06033742, 0.06033742, 0.        , 0.06033742,\n",
       "         0.        , 0.        , 0.06033742, 0.06033742, 0.04757071,\n",
       "         0.        , 0.04757071, 0.06033742, 0.06033742, 0.04757071,\n",
       "         0.        , 0.        , 0.        , 0.        , 0.        ,\n",
       "         0.        , 0.        , 0.06033742, 0.        , 0.        ,\n",
       "         0.        , 0.        , 0.        , 0.        , 0.11553778,\n",
       "         0.06033742, 0.        , 0.04757071, 0.        , 0.09514143,\n",
       "         0.        , 0.09514143, 0.        , 0.        , 0.        ,\n",
       "         0.        , 0.        , 0.        , 0.06033742, 0.06033742,\n",
       "         0.        , 0.06033742, 0.        , 0.        , 0.04757071,\n",
       "         0.        , 0.06033742, 0.06033742, 0.        , 0.        ,\n",
       "         0.        , 0.04757071, 0.06033742, 0.        , 0.04757071,\n",
       "         0.        , 0.06033742, 0.06033742, 0.06033742, 0.        ,\n",
       "         0.        , 0.06033742, 0.        , 0.06033742, 0.06033742,\n",
       "         0.        , 0.06033742, 0.        , 0.04757071, 0.        ,\n",
       "         0.        , 0.14271214, 0.06033742, 0.        , 0.04757071,\n",
       "         0.        , 0.04757071, 0.        , 0.06033742, 0.15405037,\n",
       "         0.06033742, 0.        , 0.        , 0.        , 0.04757071,\n",
       "         0.        , 0.06033742, 0.        , 0.03851259, 0.        ,\n",
       "         0.        , 0.        , 0.        , 0.06033742, 0.31486568,\n",
       "         0.03148657, 0.        , 0.        , 0.        , 0.06033742,\n",
       "         0.        , 0.        , 0.15743284, 0.12067484, 0.        ,\n",
       "         0.06033742, 0.        , 0.        , 0.        , 0.        ,\n",
       "         0.06033742, 0.04757071, 0.06033742, 0.06033742, 0.        ,\n",
       "         0.09514143, 0.        , 0.        , 0.04757071, 0.        ,\n",
       "         0.        , 0.        , 0.        ])),\n",
       " ('Kitten.txt',\n",
       "  array([0.        , 0.        , 0.        , 0.        , 0.08545991,\n",
       "         0.        , 0.        , 0.        , 0.        , 0.32518518,\n",
       "         0.        , 0.        , 0.        , 0.10839506, 0.        ,\n",
       "         0.        , 0.        , 0.22626015, 0.10839506, 0.        ,\n",
       "         0.        , 0.11313008, 0.        , 0.        , 0.        ,\n",
       "         0.        , 0.        , 0.10839506, 0.        , 0.21679012,\n",
       "         0.        , 0.10839506, 0.        , 0.        , 0.        ,\n",
       "         0.        , 0.10839506, 0.        , 0.        , 0.        ,\n",
       "         0.        , 0.        , 0.        , 0.        , 0.        ,\n",
       "         0.        , 0.05656504, 0.        , 0.        , 0.        ,\n",
       "         0.        , 0.        , 0.        , 0.        , 0.08545991,\n",
       "         0.        , 0.        , 0.        , 0.        , 0.        ,\n",
       "         0.10839506, 0.10839506, 0.        , 0.        , 0.10839506,\n",
       "         0.        , 0.        , 0.10839506, 0.        , 0.        ,\n",
       "         0.        , 0.10839506, 0.06918716, 0.        , 0.        ,\n",
       "         0.        , 0.10839506, 0.        , 0.        , 0.10839506,\n",
       "         0.        , 0.        , 0.        , 0.        , 0.        ,\n",
       "         0.10839506, 0.        , 0.10839506, 0.        , 0.        ,\n",
       "         0.        , 0.        , 0.        , 0.        , 0.        ,\n",
       "         0.        , 0.        , 0.        , 0.        , 0.        ,\n",
       "         0.        , 0.10839506, 0.13837432, 0.        , 0.        ,\n",
       "         0.10839506, 0.        , 0.        , 0.        , 0.        ,\n",
       "         0.10839506, 0.        , 0.        , 0.10839506, 0.        ,\n",
       "         0.        , 0.        , 0.        , 0.        , 0.        ,\n",
       "         0.        , 0.10839506, 0.        , 0.        , 0.        ,\n",
       "         0.08545991, 0.        , 0.        , 0.        , 0.        ,\n",
       "         0.        , 0.        , 0.05656504, 0.        , 0.        ,\n",
       "         0.        , 0.10839506, 0.        , 0.        , 0.10839506,\n",
       "         0.32518518, 0.        , 0.        , 0.        , 0.        ,\n",
       "         0.        , 0.        , 0.        , 0.        , 0.        ,\n",
       "         0.        , 0.        , 0.        , 0.        , 0.        ,\n",
       "         0.10839506, 0.        , 0.        , 0.        , 0.        ,\n",
       "         0.        , 0.10839506, 0.        , 0.        , 0.        ,\n",
       "         0.10839506, 0.10839506, 0.        , 0.        , 0.        ,\n",
       "         0.        , 0.08545991, 0.        , 0.10839506, 0.        ,\n",
       "         0.        , 0.        , 0.        , 0.10839506, 0.        ,\n",
       "         0.        , 0.        , 0.        , 0.        , 0.        ,\n",
       "         0.        , 0.        , 0.        , 0.        , 0.        ,\n",
       "         0.10839506, 0.        , 0.        , 0.10839506, 0.        ,\n",
       "         0.        , 0.        , 0.        , 0.        , 0.        ,\n",
       "         0.        , 0.        , 0.        , 0.        , 0.        ,\n",
       "         0.        , 0.        , 0.        , 0.        , 0.        ,\n",
       "         0.10839506, 0.        , 0.        , 0.        , 0.        ,\n",
       "         0.        , 0.        , 0.        , 0.        , 0.08545991,\n",
       "         0.10839506, 0.        , 0.        , 0.        , 0.        ,\n",
       "         0.        , 0.        , 0.        , 0.        , 0.        ,\n",
       "         0.        , 0.        , 0.10839506, 0.06918716, 0.10839506,\n",
       "         0.        , 0.        , 0.        , 0.        , 0.05656504,\n",
       "         0.16969512, 0.        , 0.17091982, 0.        , 0.        ,\n",
       "         0.10839506, 0.        , 0.22626015, 0.        , 0.10839506,\n",
       "         0.        , 0.10839506, 0.        , 0.        , 0.10839506,\n",
       "         0.        , 0.        , 0.        , 0.        , 0.21679012,\n",
       "         0.        , 0.        , 0.        , 0.        , 0.        ,\n",
       "         0.10839506, 0.        , 0.        ])),\n",
       " ('sample.txt',\n",
       "  array([0.        , 0.        , 0.        , 0.0852751 , 0.        ,\n",
       "         0.        , 0.        , 0.        , 0.06723186, 0.        ,\n",
       "         0.06723186, 0.        , 0.05442999, 0.        , 0.        ,\n",
       "         0.06723186, 0.        , 0.26700049, 0.        , 0.0852751 ,\n",
       "         0.0852751 , 0.17800033, 0.        , 0.10885998, 0.06723186,\n",
       "         0.        , 0.        , 0.        , 0.        , 0.        ,\n",
       "         0.0852751 , 0.        , 0.17055019, 0.        , 0.        ,\n",
       "         0.        , 0.        , 0.06723186, 0.        , 0.        ,\n",
       "         0.        , 0.        , 0.        , 0.        , 0.06723186,\n",
       "         0.        , 0.08900016, 0.10885998, 0.        , 0.17055019,\n",
       "         0.        , 0.        , 0.        , 0.        , 0.        ,\n",
       "         0.        , 0.        , 0.0852751 , 0.        , 0.        ,\n",
       "         0.        , 0.        , 0.        , 0.0852751 , 0.        ,\n",
       "         0.        , 0.0852751 , 0.        , 0.        , 0.        ,\n",
       "         0.        , 0.        , 0.        , 0.        , 0.        ,\n",
       "         0.        , 0.        , 0.0852751 , 0.        , 0.        ,\n",
       "         0.0852751 , 0.        , 0.06723186, 0.0852751 , 0.        ,\n",
       "         0.        , 0.0852751 , 0.        , 0.        , 0.        ,\n",
       "         0.        , 0.        , 0.        , 0.        , 0.        ,\n",
       "         0.        , 0.        , 0.        , 0.0852751 , 0.0852751 ,\n",
       "         0.        , 0.        , 0.        , 0.        , 0.        ,\n",
       "         0.        , 0.        , 0.        , 0.05442999, 0.        ,\n",
       "         0.        , 0.        , 0.0852751 , 0.        , 0.        ,\n",
       "         0.        , 0.        , 0.        , 0.        , 0.        ,\n",
       "         0.        , 0.        , 0.        , 0.        , 0.0852751 ,\n",
       "         0.        , 0.        , 0.        , 0.16328997, 0.0852751 ,\n",
       "         0.        , 0.0852751 , 0.04450008, 0.        , 0.        ,\n",
       "         0.0852751 , 0.        , 0.        , 0.        , 0.        ,\n",
       "         0.        , 0.        , 0.        , 0.25582529, 0.        ,\n",
       "         0.0852751 , 0.0852751 , 0.        , 0.        , 0.        ,\n",
       "         0.        , 0.06723186, 0.        , 0.        , 0.        ,\n",
       "         0.        , 0.        , 0.        , 0.        , 0.0852751 ,\n",
       "         0.0852751 , 0.        , 0.        , 0.        , 0.0852751 ,\n",
       "         0.        , 0.        , 0.        , 0.        , 0.21771995,\n",
       "         0.        , 0.        , 0.06723186, 0.        , 0.        ,\n",
       "         0.        , 0.06723186, 0.0852751 , 0.        , 0.0852751 ,\n",
       "         0.0852751 , 0.        , 0.        , 0.        , 0.        ,\n",
       "         0.        , 0.        , 0.06723186, 0.        , 0.        ,\n",
       "         0.        , 0.        , 0.        , 0.        , 0.0852751 ,\n",
       "         0.06723186, 0.06723186, 0.        , 0.0852751 , 0.        ,\n",
       "         0.        , 0.        , 0.        , 0.        , 0.        ,\n",
       "         0.0852751 , 0.        , 0.0852751 , 0.        , 0.        ,\n",
       "         0.        , 0.        , 0.0852751 , 0.06723186, 0.0852751 ,\n",
       "         0.        , 0.06723186, 0.        , 0.0852751 , 0.        ,\n",
       "         0.        , 0.        , 0.06723186, 0.        , 0.10885998,\n",
       "         0.        , 0.06723186, 0.        , 0.0852751 , 0.        ,\n",
       "         0.0852751 , 0.        , 0.        , 0.        , 0.        ,\n",
       "         0.06723186, 0.        , 0.        , 0.        , 0.4895009 ,\n",
       "         0.04450008, 0.0852751 , 0.        , 0.        , 0.        ,\n",
       "         0.        , 0.0852751 , 0.13350025, 0.        , 0.        ,\n",
       "         0.        , 0.        , 0.0852751 , 0.0852751 , 0.        ,\n",
       "         0.        , 0.06723186, 0.        , 0.        , 0.        ,\n",
       "         0.06723186, 0.        , 0.0852751 , 0.        , 0.0852751 ,\n",
       "         0.        , 0.        , 0.        ])),\n",
       " ('wildcat.txt',\n",
       "  array([0.08082447, 0.        , 0.        , 0.        , 0.        ,\n",
       "         0.        , 0.08082447, 0.06372294, 0.06372294, 0.        ,\n",
       "         0.12744587, 0.08082447, 0.10317842, 0.        , 0.08082447,\n",
       "         0.06372294, 0.        , 0.37959803, 0.        , 0.        ,\n",
       "         0.        , 0.12653268, 0.08082447, 0.05158921, 0.06372294,\n",
       "         0.        , 0.        , 0.        , 0.        , 0.        ,\n",
       "         0.        , 0.        , 0.        , 0.08082447, 0.08082447,\n",
       "         0.        , 0.        , 0.06372294, 0.        , 0.        ,\n",
       "         0.        , 0.08082447, 0.        , 0.08082447, 0.12744587,\n",
       "         0.        , 0.12653268, 0.15476763, 0.06372294, 0.        ,\n",
       "         0.08082447, 0.06372294, 0.08082447, 0.        , 0.        ,\n",
       "         0.08082447, 0.        , 0.        , 0.06372294, 0.        ,\n",
       "         0.        , 0.        , 0.08082447, 0.        , 0.        ,\n",
       "         0.        , 0.        , 0.        , 0.        , 0.08082447,\n",
       "         0.08082447, 0.        , 0.05158921, 0.        , 0.        ,\n",
       "         0.        , 0.        , 0.        , 0.        , 0.        ,\n",
       "         0.        , 0.08082447, 0.06372294, 0.        , 0.08082447,\n",
       "         0.        , 0.        , 0.        , 0.08082447, 0.        ,\n",
       "         0.12744587, 0.        , 0.06372294, 0.12744587, 0.08082447,\n",
       "         0.06372294, 0.        , 0.08082447, 0.        , 0.        ,\n",
       "         0.06372294, 0.        , 0.05158921, 0.08082447, 0.08082447,\n",
       "         0.        , 0.        , 0.        , 0.05158921, 0.08082447,\n",
       "         0.        , 0.08082447, 0.        , 0.        , 0.        ,\n",
       "         0.        , 0.08082447, 0.        , 0.08082447, 0.        ,\n",
       "         0.        , 0.        , 0.        , 0.        , 0.        ,\n",
       "         0.        , 0.        , 0.        , 0.15476763, 0.        ,\n",
       "         0.        , 0.        , 0.08435512, 0.        , 0.        ,\n",
       "         0.        , 0.        , 0.        , 0.        , 0.        ,\n",
       "         0.        , 0.        , 0.        , 0.        , 0.        ,\n",
       "         0.        , 0.        , 0.        , 0.        , 0.06372294,\n",
       "         0.08082447, 0.        , 0.        , 0.        , 0.12744587,\n",
       "         0.        , 0.08082447, 0.08082447, 0.08082447, 0.        ,\n",
       "         0.        , 0.        , 0.        , 0.08082447, 0.        ,\n",
       "         0.        , 0.        , 0.08082447, 0.08082447, 0.15476763,\n",
       "         0.        , 0.06372294, 0.        , 0.        , 0.06372294,\n",
       "         0.08082447, 0.        , 0.        , 0.        , 0.        ,\n",
       "         0.        , 0.08082447, 0.08082447, 0.        , 0.        ,\n",
       "         0.08082447, 0.        , 0.06372294, 0.08082447, 0.12744587,\n",
       "         0.        , 0.        , 0.        , 0.        , 0.        ,\n",
       "         0.06372294, 0.        , 0.        , 0.        , 0.06372294,\n",
       "         0.08082447, 0.        , 0.        , 0.        , 0.08082447,\n",
       "         0.        , 0.        , 0.        , 0.        , 0.        ,\n",
       "         0.        , 0.        , 0.        , 0.        , 0.        ,\n",
       "         0.08082447, 0.        , 0.        , 0.        , 0.        ,\n",
       "         0.        , 0.06372294, 0.12744587, 0.        , 0.15476763,\n",
       "         0.        , 0.06372294, 0.08082447, 0.        , 0.06372294,\n",
       "         0.        , 0.        , 0.        , 0.05158921, 0.        ,\n",
       "         0.06372294, 0.08082447, 0.08082447, 0.        , 0.2108878 ,\n",
       "         0.16871024, 0.        , 0.06372294, 0.08082447, 0.        ,\n",
       "         0.        , 0.        , 0.29524292, 0.        , 0.        ,\n",
       "         0.        , 0.        , 0.        , 0.        , 0.        ,\n",
       "         0.        , 0.        , 0.        , 0.        , 0.        ,\n",
       "         0.        , 0.08082447, 0.        , 0.12744587, 0.        ,\n",
       "         0.        , 0.08082447, 0.08082447]))]"
      ]
     },
     "execution_count": 14,
     "metadata": {},
     "output_type": "execute_result"
    }
   ],
   "source": [
    "d_vectors"
   ]
  },
  {
   "cell_type": "code",
   "execution_count": 15,
   "id": "0c54f653",
   "metadata": {},
   "outputs": [],
   "source": [
    "plagiarism_results=set()"
   ]
  },
  {
   "cell_type": "code",
   "execution_count": 16,
   "id": "ce7b9ae2",
   "metadata": {},
   "outputs": [],
   "source": [
    "simi=dict()"
   ]
  },
  {
   "cell_type": "code",
   "execution_count": 17,
   "id": "13ff99ae",
   "metadata": {},
   "outputs": [],
   "source": [
    "def check_plagiarism():\n",
    "    global s_vectors\n",
    "    for document_a,text_vectors_a in d_vectors:\n",
    "        new_vectors=d_vectors.copy()\n",
    "        current_index=new_vectors.index((document_a,text_vectors_a))\n",
    "        print(current_index)\n",
    "        del new_vectors[current_index]\n",
    "        for document_b,text_vectors_b in new_vectors:\n",
    "            sim_score=similarity(text_vectors_a,text_vectors_b)[0][1]\n",
    "            document_pairs=sorted((document_a,document_b))\n",
    "            if(document_pairs[0]=='sample.txt'):\n",
    "                simi[document_pairs[1]]=sim_score*100\n",
    "            elif(document_pairs[1]=='sample.txt'):\n",
    "                simi[document_pairs[0]]=sim_score*100\n",
    "            score=(document_pairs[0],document_pairs[1],sim_score)\n",
    "            plagiarism_results.add(score)\n",
    "    return plagiarism_results     "
   ]
  },
  {
   "cell_type": "code",
   "execution_count": 18,
   "id": "4a3c2e77",
   "metadata": {},
   "outputs": [
    {
     "name": "stdout",
     "output_type": "stream",
     "text": [
      "0\n",
      "1\n",
      "2\n",
      "3\n",
      "('Kitten.txt', 'sample.txt', 0.15354608072481601)\n",
      "('Cat.txt', 'sample.txt', 0.439573919041677)\n",
      "('sample.txt', 'wildcat.txt', 0.46001053072525233)\n",
      "('Kitten.txt', 'wildcat.txt', 0.25010583780871126)\n",
      "('Cat.txt', 'Kitten.txt', 0.20728018366756992)\n",
      "('Cat.txt', 'wildcat.txt', 0.47460055956163727)\n"
     ]
    }
   ],
   "source": [
    "for data in check_plagiarism():\n",
    "    print(data)"
   ]
  },
  {
   "cell_type": "code",
   "execution_count": 19,
   "id": "87450fbc",
   "metadata": {},
   "outputs": [
    {
     "data": {
      "image/png": "[encoded data removed]",
      "text/plain": [
       "<Figure size 720x360 with 1 Axes>"
      ]
     },
     "metadata": {
      "needs_background": "light"
     },
     "output_type": "display_data"
    }
   ],
   "source": [
    "fig = plt.figure(figsize = (10,5))\n",
    "plt.bar(list(simi.keys()),list(simi.values()), color ='green',width = 0.4)\n",
    "plt.xlabel(\"File names\")\n",
    "plt.ylabel(\"percentage of similarity\")\n",
    "plt.title(\"Similarity of files with the sample files\")\n",
    "plt.show()"
   ]
  },
  {
   "cell_type": "code",
   "execution_count": null,
   "id": "a607a7c1",
   "metadata": {},
   "outputs": [],
   "source": []
  },
  {
   "cell_type": "code",
   "execution_count": null,
   "id": "787a0181",
   "metadata": {},
   "outputs": [],
   "source": []
  },
  {
   "cell_type": "code",
   "execution_count": null,
   "id": "5352ac7f",
   "metadata": {},
   "outputs": [],
   "source": []
  }
 ],
 "metadata": {
  "kernelspec": {
   "display_name": "Python 3 (ipykernel)",
   "language": "python",
   "name": "python3"
  },
  "language_info": {
   "codemirror_mode": {
    "name": "ipython",
    "version": 3
   },
   "file_extension": ".py",
   "mimetype": "text/x-python",
   "name": "python",
   "nbconvert_exporter": "python",
   "pygments_lexer": "ipython3",
   "version": "3.10.0"
  }
 },
 "nbformat": 4,
 "nbformat_minor": 5
}
